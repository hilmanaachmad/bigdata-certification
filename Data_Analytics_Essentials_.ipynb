{
  "nbformat": 4,
  "nbformat_minor": 0,
  "metadata": {
    "colab": {
      "name": "1. Data Analytics Essentials .ipynb",
      "provenance": [],
      "collapsed_sections": [],
      "toc_visible": true,
      "include_colab_link": true
    },
    "language_info": {
      "codemirror_mode": {
        "name": "ipython",
        "version": 3
      },
      "file_extension": ".py",
      "mimetype": "text/x-python",
      "name": "python",
      "nbconvert_exporter": "python",
      "pygments_lexer": "ipython3",
      "version": "3.7.3"
    },
    "kernelspec": {
      "display_name": "Python 3",
      "language": "python",
      "name": "python3"
    }
  },
  "cells": [
    {
      "cell_type": "markdown",
      "metadata": {
        "id": "view-in-github",
        "colab_type": "text"
      },
      "source": [
        "<a href=\"https://colab.research.google.com/github/rc-dbe/bigdatacertification/blob/master/Data_Analytics_Essentials_.ipynb\" target=\"_parent\"><img src=\"https://colab.research.google.com/assets/colab-badge.svg\" alt=\"Open In Colab\"/></a>"
      ]
    },
    {
      "cell_type": "markdown",
      "metadata": {
        "id": "FurDMcm_yvfA",
        "colab_type": "text"
      },
      "source": [
        "\n",
        "*Hands-on of Big Data Analyst with TuV Certified Qualification*\n",
        "\n",
        "\n",
        "---\n",
        "\n",
        "\n"
      ]
    },
    {
      "cell_type": "markdown",
      "metadata": {
        "id": "px7U2SKDgpY7",
        "colab_type": "text"
      },
      "source": [
        "# 1. Data Analytics Essentials"
      ]
    },
    {
      "cell_type": "markdown",
      "metadata": {
        "id": "tY0tlG7vnLcv",
        "colab_type": "text"
      },
      "source": [
        "**Overview:** \n",
        "\n",
        "* Data Exploration:\n",
        "* Data Preparation:\n",
        "* Dimensionality Reduction"
      ]
    },
    {
      "cell_type": "markdown",
      "metadata": {
        "id": "ydIkrMPmgpY9",
        "colab_type": "text"
      },
      "source": [
        "## Data Exploration"
      ]
    },
    {
      "cell_type": "markdown",
      "metadata": {
        "id": "3fMuAO8cLrC_",
        "colab_type": "text"
      },
      "source": [
        "Data exploration is the initial step in data analysis, where users explore a large data set in an unstructured way to uncover initial patterns, characteristics, and points of interest. This process isn’t meant to reveal every bit of information a dataset holds, but rather to help create a broad picture of important trends and major points to study in greater detail."
      ]
    },
    {
      "cell_type": "markdown",
      "metadata": {
        "id": "OKnHQQg2guon",
        "colab_type": "text"
      },
      "source": [
        "### Import Data"
      ]
    },
    {
      "cell_type": "markdown",
      "metadata": {
        "id": "9rBF715QjS-A",
        "colab_type": "text"
      },
      "source": [
        "There are so many ways to import the data from the outside source. One of it is using Pandas, Pandas is a python library that widely used for data analytics."
      ]
    },
    {
      "cell_type": "code",
      "metadata": {
        "id": "gORhACongpY-",
        "colab_type": "code",
        "colab": {}
      },
      "source": [
        "# import library\n",
        "import pandas as pd"
      ],
      "execution_count": 0,
      "outputs": []
    },
    {
      "cell_type": "markdown",
      "metadata": {
        "id": "-DKrTxDpkHFP",
        "colab_type": "text"
      },
      "source": [
        "In practice this time we will use Telco Customer Churn dataset that available at Kaggle. This dataset contains unique customer records for a telecom company called Telco.\n",
        "\n",
        "This data set includes information about:\n",
        "*   Services that each customer has signed up for – phone, multiple lines, internet, online security, online backup, device protection, tech support, and streaming TV and movies.\n",
        "*   Customer account information – how long they’ve been a customer, contract, payment method, paperless billing, monthly charges, and total charges.\n",
        "*   Demographic info about customers – gender, age range, and if they have partners and dependents.\n",
        "*   Customers who left within the last month – the column is called Churn\n",
        "\n",
        "We can import many types of file, from many types of source. Since we are using Goole Collab, we are going to import the dataset from an online link(GitHUb Repo). For the other methods to import data can be seen in the Pandas documentation. [HERE](https://https://pandas.pydata.org/pandas-docs/stable/). \n",
        "\n"
      ]
    },
    {
      "cell_type": "code",
      "metadata": {
        "id": "u3r3rlhDgpZC",
        "colab_type": "code",
        "colab": {}
      },
      "source": [
        "# Import Data From an online link (GitHub)\n",
        "df_link = pd.read_csv('https://raw.githubusercontent.com/rc-dbe/bigdatacertification/master/dataset/churn.csv', sep=';',)"
      ],
      "execution_count": 0,
      "outputs": []
    },
    {
      "cell_type": "code",
      "metadata": {
        "id": "VsNDG9csuEiM",
        "colab_type": "code",
        "colab": {}
      },
      "source": [
        "# Select On of the dataset and show the data dimention. \n",
        "df = df_link"
      ],
      "execution_count": 0,
      "outputs": []
    },
    {
      "cell_type": "code",
      "metadata": {
        "id": "4mGw9E9lvNFl",
        "colab_type": "code",
        "colab": {}
      },
      "source": [
        "# Prints the amount of rows and column numbers\n",
        "df.shape"
      ],
      "execution_count": 0,
      "outputs": []
    },
    {
      "cell_type": "code",
      "metadata": {
        "id": "-c7eRawvgpZF",
        "colab_type": "code",
        "colab": {}
      },
      "source": [
        "# Prints information about a DataFrame including the index dtype and column dtypes, non-null values and memory usage.\n",
        "df.info()"
      ],
      "execution_count": 0,
      "outputs": []
    },
    {
      "cell_type": "code",
      "metadata": {
        "id": "FLMRE4zCpkxt",
        "colab_type": "code",
        "colab": {}
      },
      "source": [
        "# Prints 10 first Row\n",
        "df.head(10)"
      ],
      "execution_count": 0,
      "outputs": []
    },
    {
      "cell_type": "code",
      "metadata": {
        "id": "GJh_PXp1gpZI",
        "colab_type": "code",
        "colab": {}
      },
      "source": [
        "# Prints 5 last Row\n",
        "df.tail(5)"
      ],
      "execution_count": 0,
      "outputs": []
    },
    {
      "cell_type": "markdown",
      "metadata": {
        "id": "xhWgEylwgpZN",
        "colab_type": "text"
      },
      "source": [
        "### Measure of Central Tendency"
      ]
    },
    {
      "cell_type": "code",
      "metadata": {
        "id": "UdUo4BjDgpZR",
        "colab_type": "code",
        "colab": {}
      },
      "source": [
        "# Select Only Numeric Variable\n",
        "df_num = df[['MonthlyCharges', 'tenure', 'TotalCharges']]"
      ],
      "execution_count": 0,
      "outputs": []
    },
    {
      "cell_type": "code",
      "metadata": {
        "id": "-il0-wFugpZU",
        "colab_type": "code",
        "colab": {}
      },
      "source": [
        "# Mean value\n",
        "mean= df_num.mean()\n",
        "mean"
      ],
      "execution_count": 0,
      "outputs": []
    },
    {
      "cell_type": "code",
      "metadata": {
        "id": "2anRdXrBgpZX",
        "colab_type": "code",
        "colab": {}
      },
      "source": [
        "# Median value\n",
        "median= df_num.median()\n",
        "median"
      ],
      "execution_count": 0,
      "outputs": []
    },
    {
      "cell_type": "code",
      "metadata": {
        "id": "L8ijh_4GgpZb",
        "colab_type": "code",
        "colab": {}
      },
      "source": [
        "# Mode value\n",
        "mode= df_num.mode()\n",
        "mode"
      ],
      "execution_count": 0,
      "outputs": []
    },
    {
      "cell_type": "code",
      "metadata": {
        "id": "lFUpikf0gpZO",
        "colab_type": "code",
        "colab": {}
      },
      "source": [
        "# Prints descriptive statistics that summarize the central tendency, dispersion and shape of a dataset’s distribution\n",
        "df.describe().transpose()"
      ],
      "execution_count": 0,
      "outputs": []
    },
    {
      "cell_type": "markdown",
      "metadata": {
        "id": "kX5UrnL-gpZe",
        "colab_type": "text"
      },
      "source": [
        "### Correlation"
      ]
    },
    {
      "cell_type": "markdown",
      "metadata": {
        "id": "8md7N1z75AO0",
        "colab_type": "text"
      },
      "source": [
        "To find the pairwise correlation of all columns in the data frame we can use dataframe.corr() function from Pandas.  Any NA values are automatically excluded and \n",
        "any non-numeric data type columns in the data frame automatically  ignored. Read the documentation [HERE](https://https://pandas.pydata.org/pandas-docs/stable/reference/api/pandas.DataFrame.corr.html). \n",
        "\n",
        "There are 4 methods available:\n",
        "*  pearson: standard correlation coefficient\n",
        "*  kendall: Kendall Tau correlation coefficient\n",
        "*  spearman: Spearman rank correlation\n",
        "*  callable: callable with input two 1d ndarrays"
      ]
    },
    {
      "cell_type": "code",
      "metadata": {
        "id": "CN9NCDiagpZf",
        "colab_type": "code",
        "colab": {}
      },
      "source": [
        "# Count the correlation among the columns using kendal method\n",
        "correlation_matrix = df.corr(method='kendall')\n",
        "\n",
        "# Print Correlation Matrix\n",
        "correlation_matrix"
      ],
      "execution_count": 0,
      "outputs": []
    },
    {
      "cell_type": "markdown",
      "metadata": {
        "id": "Q8qc25s-lWcb",
        "colab_type": "text"
      },
      "source": [
        "### Contingency Table"
      ]
    },
    {
      "cell_type": "code",
      "metadata": {
        "id": "F7b99uKZgpZu",
        "colab_type": "code",
        "colab": {}
      },
      "source": [
        "# Compute Contingency Table\n",
        "data_crosstab = pd.crosstab(df['PaymentMethod'], \n",
        "                            df['Churn'],  \n",
        "                               margins = False) \n",
        "print(data_crosstab) "
      ],
      "execution_count": 0,
      "outputs": []
    },
    {
      "cell_type": "markdown",
      "metadata": {
        "id": "2YbMh7zdgpZi",
        "colab_type": "text"
      },
      "source": [
        "### Data Visualization"
      ]
    },
    {
      "cell_type": "code",
      "metadata": {
        "id": "ITFnE_BxmoMQ",
        "colab_type": "code",
        "colab": {}
      },
      "source": [
        "# Import Library\n",
        "import seaborn as sns\n",
        "import matplotlib.pyplot as plt\n",
        "import warnings\n",
        "warnings.filterwarnings('ignore')\n",
        "%matplotlib inline\n",
        "\n",
        "plt.rcParams['figure.figsize'] = (7, 7)\n",
        "plt.style.use('ggplot')"
      ],
      "execution_count": 0,
      "outputs": []
    },
    {
      "cell_type": "markdown",
      "metadata": {
        "id": "cG0EUWG78LP_",
        "colab_type": "text"
      },
      "source": [
        "We can customizing plots with style sheets. The style package adds support for easy-to-switch plotting “styles” with the same parameters as a matplotlibrc file.\n",
        "\n",
        "There are a number of pre-defined styles provided by matplotlib, that can be seen [HERE](https://matplotlib.org/3.1.0/gallery/style_sheets/style_sheets_reference.html)"
      ]
    },
    {
      "cell_type": "markdown",
      "metadata": {
        "id": "gcnTPRevla0J",
        "colab_type": "text"
      },
      "source": [
        "#### Visualize Data Distribution"
      ]
    },
    {
      "cell_type": "code",
      "metadata": {
        "id": "Q4uZuG-mgpZn",
        "colab_type": "code",
        "colab": {}
      },
      "source": [
        "# Visualize Data Distribution\n",
        "sns.distplot(df['MonthlyCharges'])"
      ],
      "execution_count": 0,
      "outputs": []
    },
    {
      "cell_type": "markdown",
      "metadata": {
        "id": "G7RT7Y8lhGil",
        "colab_type": "text"
      },
      "source": [
        "#### Scatter Plot"
      ]
    },
    {
      "cell_type": "code",
      "metadata": {
        "id": "BIWERVqagpZi",
        "colab_type": "code",
        "colab": {}
      },
      "source": [
        "# Scatter Plot\n",
        "sns.scatterplot(x=\"tenure\", y=\"TotalCharges\", data= df)"
      ],
      "execution_count": 0,
      "outputs": []
    },
    {
      "cell_type": "markdown",
      "metadata": {
        "id": "I3w3PPA5hN6t",
        "colab_type": "text"
      },
      "source": [
        "#### Bar Chart"
      ]
    },
    {
      "cell_type": "code",
      "metadata": {
        "id": "hoSaQnhMgpZl",
        "colab_type": "code",
        "colab": {}
      },
      "source": [
        "# Bar Chart\n",
        "sns.barplot(x='Churn',y='tenure',data=df)"
      ],
      "execution_count": 0,
      "outputs": []
    },
    {
      "cell_type": "markdown",
      "metadata": {
        "id": "fRWVPLyOl8Z5",
        "colab_type": "text"
      },
      "source": [
        "#### Pairwise Relationship"
      ]
    },
    {
      "cell_type": "code",
      "metadata": {
        "id": "xilrUGLygpZp",
        "colab_type": "code",
        "colab": {}
      },
      "source": [
        "# Pairwise relationships\n",
        "sns.pairplot(df)"
      ],
      "execution_count": 0,
      "outputs": []
    },
    {
      "cell_type": "markdown",
      "metadata": {
        "id": "C4dbZ1rDgpZw",
        "colab_type": "text"
      },
      "source": [
        "## Data Preparation"
      ]
    },
    {
      "cell_type": "markdown",
      "metadata": {
        "id": "OFlG7JXQH_Df",
        "colab_type": "text"
      },
      "source": [
        "Data preparation is the process of cleaning and transforming raw data prior to processing and analysis."
      ]
    },
    {
      "cell_type": "markdown",
      "metadata": {
        "id": "coVtdbKZgpZw",
        "colab_type": "text"
      },
      "source": [
        "### Handling Missing Values"
      ]
    },
    {
      "cell_type": "code",
      "metadata": {
        "id": "NiUkLhrkgpZx",
        "colab_type": "code",
        "colab": {}
      },
      "source": [
        "# Show missing values on data\n",
        "df.isnull().sum()"
      ],
      "execution_count": 0,
      "outputs": []
    },
    {
      "cell_type": "code",
      "metadata": {
        "id": "JOu0DpPggpZz",
        "colab_type": "code",
        "colab": {}
      },
      "source": [
        "# Impute missing values with the median number\n",
        "tc_median = df[\"TotalCharges\"].median()\n",
        "df[\"TotalCharges\"].fillna(tc_median, inplace=True)"
      ],
      "execution_count": 0,
      "outputs": []
    },
    {
      "cell_type": "code",
      "metadata": {
        "id": "9v5TGOyZkrs3",
        "colab_type": "code",
        "colab": {}
      },
      "source": [
        "# Show the data information to see whether the empty value has been replaced\n",
        "df.info()"
      ],
      "execution_count": 0,
      "outputs": []
    },
    {
      "cell_type": "markdown",
      "metadata": {
        "id": "bgTENAxMgpZ2",
        "colab_type": "text"
      },
      "source": [
        "### Encoding Categorical Variable"
      ]
    },
    {
      "cell_type": "code",
      "metadata": {
        "id": "vMxcOfbFUKvN",
        "colab_type": "code",
        "colab": {}
      },
      "source": [
        "# Install Category Encoders\n",
        "! pip install category_encoders"
      ],
      "execution_count": 0,
      "outputs": []
    },
    {
      "cell_type": "code",
      "metadata": {
        "id": "PKYwGJcZTr7V",
        "colab_type": "code",
        "colab": {}
      },
      "source": [
        "import category_encoders as ce\n",
        "\n",
        "encoder = ce.BinaryEncoder(cols=['gender', \n",
        "          'SeniorCitizen', \n",
        "          'Partner', \n",
        "          'Dependents', \n",
        "          'PhoneService', \n",
        "          'MultipleLines', \n",
        "          'InternetService', \n",
        "          'OnlineSecurity', \n",
        "          'OnlineBackup', \n",
        "          'DeviceProtection', \n",
        "          'TechSupport', \n",
        "          'StreamingTV', \n",
        "          'StreamingMovies', \n",
        "          'Contract', \n",
        "          'PaperlessBilling', \n",
        "          'PaymentMethod'])\n",
        "df_binary = encoder.fit_transform(df)\n",
        "\n",
        "df_binary.head()"
      ],
      "execution_count": 0,
      "outputs": []
    },
    {
      "cell_type": "code",
      "metadata": {
        "id": "IHRoGWANUb9K",
        "colab_type": "code",
        "colab": {}
      },
      "source": [
        "df_binary.info()"
      ],
      "execution_count": 0,
      "outputs": []
    },
    {
      "cell_type": "code",
      "metadata": {
        "id": "lVzIpo3agpaE",
        "colab_type": "code",
        "colab": {}
      },
      "source": [
        "df = df_binary.drop(\"customerID\", axis=1)\n",
        "df.head()"
      ],
      "execution_count": 0,
      "outputs": []
    },
    {
      "cell_type": "markdown",
      "metadata": {
        "id": "kKUSKeKQgpaG",
        "colab_type": "text"
      },
      "source": [
        "### Normalization"
      ]
    },
    {
      "cell_type": "markdown",
      "metadata": {
        "id": "GnJR_YMXIvf2",
        "colab_type": "text"
      },
      "source": [
        "Normalization typically means rescales the values into a range of [0,1]"
      ]
    },
    {
      "cell_type": "code",
      "metadata": {
        "id": "wIBVK9AaYZ_-",
        "colab_type": "code",
        "colab": {}
      },
      "source": [
        "column_names = df.columns.tolist()\n",
        "column_names.remove('Churn')\n",
        "column_names"
      ],
      "execution_count": 0,
      "outputs": []
    },
    {
      "cell_type": "code",
      "metadata": {
        "id": "l2IFv4xogpaG",
        "colab_type": "code",
        "colab": {}
      },
      "source": [
        "#Import MinMax Scaler\n",
        "from sklearn.preprocessing import MinMaxScaler\n",
        "\n",
        "# initialize min-max scaler\n",
        "mm_scaler = MinMaxScaler()\n",
        "df_norm = df.copy()\n",
        "\n",
        "# Transform all attributes\n",
        "df_norm[column_names] = mm_scaler.fit_transform(df_norm[column_names])\n",
        "df_norm.sort_index(inplace=True)\n",
        "df_norm.head()"
      ],
      "execution_count": 0,
      "outputs": []
    },
    {
      "cell_type": "markdown",
      "metadata": {
        "id": "yScFsnHGgpaI",
        "colab_type": "text"
      },
      "source": [
        "### Standarization"
      ]
    },
    {
      "cell_type": "markdown",
      "metadata": {
        "id": "AsYTTrjyIyrl",
        "colab_type": "text"
      },
      "source": [
        "Standardization typically means rescales data to have a mean of 0 and a standard deviation of 1 (unit variance)."
      ]
    },
    {
      "cell_type": "code",
      "metadata": {
        "id": "TRZPxQT5gpaI",
        "colab_type": "code",
        "colab": {}
      },
      "source": [
        "# Import Standard Scaler\n",
        "from sklearn.preprocessing import StandardScaler\n",
        "\n",
        "# Initizalize Standard Scaler\n",
        "standard_scaler = StandardScaler()\n",
        "df_stand = df.copy()\n",
        "\n",
        "# Transform all attributes\n",
        "df_stand[column_names] = standard_scaler.fit_transform(df_stand[column_names])\n",
        "df_stand.sort_index(inplace=True)\n",
        "df_stand.head()"
      ],
      "execution_count": 0,
      "outputs": []
    },
    {
      "cell_type": "markdown",
      "metadata": {
        "id": "WG1a0WoZgpaN",
        "colab_type": "text"
      },
      "source": [
        "## Dimensionality Reduction"
      ]
    },
    {
      "cell_type": "markdown",
      "metadata": {
        "id": "70ltsg6GgpaO",
        "colab_type": "text"
      },
      "source": [
        "### Principal Component Analysis"
      ]
    },
    {
      "cell_type": "code",
      "metadata": {
        "id": "tin6C331gpaO",
        "colab_type": "code",
        "colab": {}
      },
      "source": [
        "# Here we are using inbuilt dataset of scikit learn \n",
        "from sklearn.datasets import load_breast_cancer \n",
        "  \n",
        "# instantiating \n",
        "cancer = load_breast_cancer() \n",
        "  \n",
        "# creating dataframe \n",
        "df_pca = pd.DataFrame(cancer['data'], columns = cancer['feature_names']) \n",
        "  \n",
        "# checking head of dataframe \n",
        "df_pca.head() "
      ],
      "execution_count": 0,
      "outputs": []
    },
    {
      "cell_type": "code",
      "metadata": {
        "id": "xB7CHiDqgpaQ",
        "colab_type": "code",
        "colab": {}
      },
      "source": [
        "# Importing standardscalar module \n",
        "from sklearn.preprocessing import StandardScaler \n",
        "\n",
        "scalar = StandardScaler() \n",
        "\n",
        "# fitting \n",
        "scalar.fit(df_pca) \n",
        "scaled_data = scalar.transform(df_pca) \n",
        "\n",
        "# Importing PCA \n",
        "from sklearn.decomposition import PCA \n",
        "\n",
        "# Let's say, components = 2 \n",
        "pca = PCA(n_components = 2) \n",
        "pca.fit(scaled_data) \n",
        "x_pca = pca.transform(scaled_data) \n",
        "\n",
        "x_pca.shape \n"
      ],
      "execution_count": 0,
      "outputs": []
    },
    {
      "cell_type": "code",
      "metadata": {
        "id": "FZVLNCMvgpaS",
        "colab_type": "code",
        "colab": {}
      },
      "source": [
        "# Plot \n",
        "plt.scatter(x_pca[:, 0], x_pca[:, 1], c = cancer['target'], cmap ='plasma') \n",
        "\n",
        "# labeling x and y axes \n",
        "plt.xlabel('First Principal Component') \n",
        "plt.ylabel('Second Principal Component') \n"
      ],
      "execution_count": 0,
      "outputs": []
    },
    {
      "cell_type": "code",
      "metadata": {
        "id": "zES_2R_IgpaT",
        "colab_type": "code",
        "colab": {}
      },
      "source": [
        "# plotting heatmap\n",
        "df_comp = pd.DataFrame(pca.components_, columns = cancer['feature_names']) \n",
        "sns.heatmap(df_comp) "
      ],
      "execution_count": 0,
      "outputs": []
    }
  ]
}