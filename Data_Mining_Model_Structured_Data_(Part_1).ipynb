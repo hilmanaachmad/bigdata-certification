{
  "nbformat": 4,
  "nbformat_minor": 0,
  "metadata": {
    "colab": {
      "name": "Data Mining Model - Structured Data (Part 1)",
      "version": "0.3.2",
      "provenance": [],
      "collapsed_sections": [],
      "toc_visible": true,
      "include_colab_link": true
    },
    "kernelspec": {
      "name": "python3",
      "display_name": "Python 3"
    }
  },
  "cells": [
    {
      "cell_type": "markdown",
      "metadata": {
        "id": "view-in-github",
        "colab_type": "text"
      },
      "source": [
        "<a href=\"https://colab.research.google.com/github/rc-dbe/bigdatacertification/blob/master/Data_Mining_Model_Structured_Data_(Part_1).ipynb\" target=\"_parent\"><img src=\"https://colab.research.google.com/assets/colab-badge.svg\" alt=\"Open In Colab\"/></a>"
      ]
    },
    {
      "cell_type": "markdown",
      "metadata": {
        "id": "Up2MQL0imvLy",
        "colab_type": "text"
      },
      "source": [
        "*Hands-on of Big Data Analyst with TuV Certified Qualification*\n",
        "\n",
        "\n",
        "---\n",
        "\n"
      ]
    },
    {
      "cell_type": "markdown",
      "metadata": {
        "id": "8Y64-VX3WSZ8",
        "colab_type": "text"
      },
      "source": [
        "# 2. Data Mining Model - Structured Data (Part 1)"
      ]
    },
    {
      "cell_type": "markdown",
      "metadata": {
        "id": "HLW2pOyWptqh",
        "colab_type": "text"
      },
      "source": [
        "Sub topics covered in this practice:\n",
        "* Regression"
      ]
    },
    {
      "cell_type": "markdown",
      "metadata": {
        "id": "COHOuO-aicds",
        "colab_type": "text"
      },
      "source": [
        "## Regression\n",
        "Regression analysis is a basic method used in statistical analysis of data. It’s a statistical method which allows estimating the relationships among variables. One needs to identify dependent variable which will vary based on the value of the independent variable."
      ]
    },
    {
      "cell_type": "markdown",
      "metadata": {
        "id": "QSP92y6nj-j-",
        "colab_type": "text"
      },
      "source": [
        "### Linear Regression\n",
        "linear regression is a linear approach to modeling the relationship between a scalar response (or dependent variable) and one or more explanatory variables (or independent variables). [Wikipedia](https://en.wikipedia.org/wiki/Linear_regression)"
      ]
    },
    {
      "cell_type": "code",
      "metadata": {
        "id": "pG8XEQ81kZ-G",
        "colab_type": "code",
        "colab": {}
      },
      "source": [
        "# Import library\n",
        "import pandas as pd"
      ],
      "execution_count": 0,
      "outputs": []
    },
    {
      "cell_type": "code",
      "metadata": {
        "id": "O8nhTOlJkbJJ",
        "colab_type": "code",
        "colab": {}
      },
      "source": [
        "# Import Dataset\n",
        "salary_df = pd.read_csv('https://raw.githubusercontent.com/rc-dbe/bigdatacertification/master/dataset/Salary_Data.csv')"
      ],
      "execution_count": 0,
      "outputs": []
    },
    {
      "cell_type": "code",
      "metadata": {
        "id": "BVdKdyCSkeha",
        "colab_type": "code",
        "colab": {}
      },
      "source": [
        "# Prints the Dataset Information\n",
        "salary_df.info()"
      ],
      "execution_count": 0,
      "outputs": []
    },
    {
      "cell_type": "code",
      "metadata": {
        "id": "JV7wg7DtkiQr",
        "colab_type": "code",
        "colab": {}
      },
      "source": [
        "# Prints 10 first Row\n",
        "salary_df.head(30)"
      ],
      "execution_count": 0,
      "outputs": []
    },
    {
      "cell_type": "code",
      "metadata": {
        "id": "1fmuLjD-kt3X",
        "colab_type": "code",
        "colab": {}
      },
      "source": [
        "# Prints descriptive statistics that summarize the central tendency, dispersion and shape of a dataset’s distribution\n",
        "salary_df.describe().transpose()"
      ],
      "execution_count": 0,
      "outputs": []
    },
    {
      "cell_type": "code",
      "metadata": {
        "id": "Exic04XfkwyZ",
        "colab_type": "code",
        "colab": {}
      },
      "source": [
        "# Import Library to Visualize the Data\n",
        "import seaborn as sns\n",
        "import matplotlib.pyplot as plt\n",
        "import warnings\n",
        "warnings.filterwarnings('ignore')\n",
        "%matplotlib inline\n",
        "\n",
        "\n",
        "plt.rcParams['figure.figsize'] = (7, 7)\n",
        "plt.style.use('ggplot')\n",
        "\n",
        "# Show the Distribuion\n",
        "sns.scatterplot(x=\"YearsExperience\", y=\"Salary\", data= salary_df)\n"
      ],
      "execution_count": 0,
      "outputs": []
    },
    {
      "cell_type": "code",
      "metadata": {
        "id": "8xgX9Jkfk4AT",
        "colab_type": "code",
        "colab": {}
      },
      "source": [
        "# Select X and Y Variable\n",
        "X = salary_df.iloc[:, :-1].values\n",
        "Y = salary_df.iloc[:, 1].values"
      ],
      "execution_count": 0,
      "outputs": []
    },
    {
      "cell_type": "code",
      "metadata": {
        "id": "w2yQk0gHk7hK",
        "colab_type": "code",
        "colab": {}
      },
      "source": [
        "# Modelling\n",
        "from sklearn.linear_model import LinearRegression\n",
        "\n",
        "lr = LinearRegression()\n",
        "lr.fit(X, Y)"
      ],
      "execution_count": 0,
      "outputs": []
    },
    {
      "cell_type": "code",
      "metadata": {
        "id": "RhzxP266XKc9",
        "colab_type": "code",
        "colab": {}
      },
      "source": [
        "# Show Coefficent and Intercept\n",
        "print('Coefficient = ', lr.coef_)\n",
        "print('Intercept =', lr.intercept_)"
      ],
      "execution_count": 0,
      "outputs": []
    },
    {
      "cell_type": "code",
      "metadata": {
        "id": "iMDU36QNwJoh",
        "colab_type": "code",
        "colab": {}
      },
      "source": [
        "plt.scatter(X, Y)\n",
        "plt.plot(X, lr.predict(X), color = \"green\")\n",
        "plt.title(\"Salary vs Experience\")\n",
        "plt.xlabel(\"Years of Experience\")\n",
        "plt.ylabel(\"Salary\")\n",
        "plt.show()"
      ],
      "execution_count": 0,
      "outputs": []
    },
    {
      "cell_type": "markdown",
      "metadata": {
        "id": "hSD1MqEAlA6t",
        "colab_type": "text"
      },
      "source": [
        "### Logistic Regression\n",
        "Logistic regression is a statistical method for predicting binary classes. The outcome or target variable is dichotomous in nature. Dichotomous means there are only two possible classes. For example, it can be used for cancer detection problems. It computes the probability of an event occurrence.\n",
        "\n",
        "In this practice, we will learn to make a Logistic Regression model to predict whether a customer will churn or not (also known as customer attrition). The dataset to be used is a telco churn dataset from kaggle (This dataset has been preprocessed before). The data set includes information about:\n",
        "*   Services that each customer has signed up for – phone, multiple lines, internet, online security, online backup, device protection, tech support, and streaming TV and movies.\n",
        "*   Customer account information – how long they’ve been a customer, contract, payment method, paperless billing, monthly charges, and total charges.\n",
        "*   Demographic info about customers – gender, age range, and if they have partners and dependents.\n",
        "*   Customers who left within the last month – the column is called Churn\n"
      ]
    },
    {
      "cell_type": "code",
      "metadata": {
        "id": "wqnpEDoTltlV",
        "colab_type": "code",
        "colab": {}
      },
      "source": [
        "# Import Library\n",
        "import pandas as pd \n",
        "\n",
        "#Import the files to Google Colab\n",
        "url = 'https://raw.githubusercontent.com/rc-dbe/bigdatacertification/master/dataset/churn_trasnsformed_new.csv'\n",
        "df_csv = pd.read_csv(url, sep=',',)\n",
        "\n",
        "# Show 10 first Row\n",
        "df_csv.head()"
      ],
      "execution_count": 0,
      "outputs": []
    },
    {
      "cell_type": "code",
      "metadata": {
        "id": "1hiTAEmjluHf",
        "colab_type": "code",
        "colab": {}
      },
      "source": [
        "# Remove \"Unnamed:O\" Coloumn\n",
        "df = df_csv.drop(\"Unnamed: 0\", axis=1)\n",
        "df.head()"
      ],
      "execution_count": 0,
      "outputs": []
    },
    {
      "cell_type": "code",
      "metadata": {
        "id": "WKsMOLhcltXU",
        "colab_type": "code",
        "colab": {}
      },
      "source": [
        "# Check the Data Infomation\n",
        "df.info()"
      ],
      "execution_count": 0,
      "outputs": []
    },
    {
      "cell_type": "code",
      "metadata": {
        "id": "B8xC9m02l2k4",
        "colab_type": "code",
        "colab": {}
      },
      "source": [
        "# Selecting the Feature, by remove the unused feature \n",
        "feature = ['Churn', 'TotalCharges']\n",
        "train_feature = df.drop(feature, axis=1)\n",
        "\n",
        "# Set The Target\n",
        "train_target = df[\"Churn\"]"
      ],
      "execution_count": 0,
      "outputs": []
    },
    {
      "cell_type": "code",
      "metadata": {
        "id": "yfts4Noxl4D7",
        "colab_type": "code",
        "colab": {}
      },
      "source": [
        "# Show the Feature\n",
        "train_feature.head(5)"
      ],
      "execution_count": 0,
      "outputs": []
    },
    {
      "cell_type": "code",
      "metadata": {
        "id": "A5eVN2lWl5t5",
        "colab_type": "code",
        "colab": {}
      },
      "source": [
        "# Split Data\n",
        "from sklearn.model_selection import train_test_split, cross_val_score\n",
        "X_train, X_test, y_train, y_test = train_test_split(train_feature ,train_target, shuffle = True, test_size=0.3, random_state=1)"
      ],
      "execution_count": 0,
      "outputs": []
    },
    {
      "cell_type": "code",
      "metadata": {
        "id": "ejniSAZdl7Sb",
        "colab_type": "code",
        "colab": {}
      },
      "source": [
        "# Show the training data\n",
        "X_train.head()"
      ],
      "execution_count": 0,
      "outputs": []
    },
    {
      "cell_type": "code",
      "metadata": {
        "id": "6mhhOhavl9Xf",
        "colab_type": "code",
        "colab": {}
      },
      "source": [
        "# Import the library\n",
        "from sklearn.linear_model import LogisticRegression\n",
        "\n",
        "# Train the Logistic Regression Model using Default Parameter\n",
        "logreg = LogisticRegression()\n",
        "logreg_model = logreg.fit(X_train,y_train)\n",
        "\n",
        "\n",
        "# Predict To X_test\n",
        "y_predlg =logreg.predict(X_test)"
      ],
      "execution_count": 0,
      "outputs": []
    },
    {
      "cell_type": "code",
      "metadata": {
        "id": "nQZXLHGMl_Fe",
        "colab_type": "code",
        "colab": {}
      },
      "source": [
        "# Import the metrics class\n",
        "from sklearn import metrics\n",
        "\n",
        "cnf_matrixlg = metrics.confusion_matrix(y_test, y_predlg)\n",
        "cnf_matrixlg"
      ],
      "execution_count": 0,
      "outputs": []
    },
    {
      "cell_type": "code",
      "metadata": {
        "id": "quvanKJ5mAhF",
        "colab_type": "code",
        "colab": {}
      },
      "source": [
        "# Show the Accuracy, Precision, Recall\n",
        "acc_lg = metrics.accuracy_score(y_test, y_predlg)\n",
        "prec_lg = metrics.precision_score(y_test, y_predlg)\n",
        "rec_lg = metrics.recall_score(y_test, y_predlg)\n",
        "f1_lg = metrics.f1_score(y_test, y_predlg)\n",
        "kappa_lg = metrics.cohen_kappa_score(y_test, y_predlg)\n",
        "\n",
        "print(\"Accuracy:\", acc_lg )\n",
        "print(\"Precision:\", prec_lg)\n",
        "print(\"Recall:\", rec_lg)\n",
        "print(\"F1 Score:\", f1_lg)\n",
        "print(\"Cohens Kappa Score:\", kappa_lg)\n"
      ],
      "execution_count": 0,
      "outputs": []
    }
  ]
}