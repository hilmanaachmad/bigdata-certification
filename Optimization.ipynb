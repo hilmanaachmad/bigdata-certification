{
  "nbformat": 4,
  "nbformat_minor": 0,
  "metadata": {
    "colab": {
      "name": "Optimization",
      "version": "0.3.2",
      "provenance": [],
      "include_colab_link": true
    },
    "language_info": {
      "codemirror_mode": {
        "name": "ipython",
        "version": 3
      },
      "file_extension": ".py",
      "mimetype": "text/x-python",
      "name": "python",
      "nbconvert_exporter": "python",
      "pygments_lexer": "ipython3",
      "version": "3.6.0"
    },
    "kernelspec": {
      "display_name": "Python 3",
      "language": "python",
      "name": "python3"
    }
  },
  "cells": [
    {
      "cell_type": "markdown",
      "metadata": {
        "id": "view-in-github",
        "colab_type": "text"
      },
      "source": [
        "<a href=\"https://colab.research.google.com/github/rc-dbe/bigdatacertification/blob/master/Optimization.ipynb\" target=\"_parent\"><img src=\"https://colab.research.google.com/assets/colab-badge.svg\" alt=\"Open In Colab\"/></a>"
      ]
    },
    {
      "cell_type": "markdown",
      "metadata": {
        "id": "y7RIUh7VusRI",
        "colab_type": "text"
      },
      "source": [
        "\n",
        "*Hands-on of Big Data Analyst with TuV Certified Qualification*\n",
        "\n",
        "\n",
        "---\n",
        "\n",
        "\n"
      ]
    },
    {
      "cell_type": "markdown",
      "metadata": {
        "id": "XlF7AKHcuw3g",
        "colab_type": "text"
      },
      "source": [
        "# Optimization"
      ]
    },
    {
      "cell_type": "markdown",
      "metadata": {
        "id": "GCZ3iGJ3eLWm",
        "colab_type": "text"
      },
      "source": [
        "<div>\n",
        "<p>A manufacturer is producing sausages!</p>\n",
        "<p>Here are the following ingredients available:</p>\n",
        "<table>\n",
        "<thead>\n",
        "<tr>\n",
        "<th>Ingredient</th>\n",
        "<th>Cost ($/kg)</th>\n",
        "<th>Availability (kg)</th>\n",
        "</tr>\n",
        "</thead>\n",
        "<tbody>\n",
        "<tr>\n",
        "<td>Beef</td>\n",
        "<td>5.72</td>\n",
        "<td>30</td>\n",
        "</tr>\n",
        "<tr>\n",
        "<td>Wheat</td>\n",
        "<td>2.16</td>\n",
        "<td>20</td>\n",
        "</tr>\n",
        "<tr>\n",
        "<td>Starch</td>\n",
        "<td>1.5</td>\n",
        "<td>17</td>\n",
        "</tr>\n",
        "</tbody>\n",
        "</table>\n",
        "<p>There are 2 types of sausage:</p>\n",
        "<ul>\n",
        "<li>Economy (&gt;40% Beef)</li>\n",
        "<li>Premium (&gt;60% Beef)</li>\n",
        "</ul>\n",
        "<p>Every piece of sausage is 50 grams (0.05 kg).</p>\n",
        "<p>According to product specification, starch should be 25% of the total components per item.</p>\n",
        "<p>A butcher has been contracted, 23 kg beef have already been purchased.</p>\n",
        "<p>Demand: 350 economy sausages and 500 premium sausages.</p>\n",
        "<p>What is the most cost effective blend for production.</p>\n",
        "</div>\n",
        "</div>\n",
        "</div>"
      ]
    },
    {
      "cell_type": "markdown",
      "metadata": {
        "id": "ZAvqfTUoeLWp",
        "colab_type": "text"
      },
      "source": [
        "<div>\n",
        "<div> \n",
        "<p>The model for the problem</p>\n",
        "<p>$\n",
        "  b_e = \\text{Beef in the economy sausages (kg)} \\\\\n",
        "  w_e = \\text{Wheat in the economy sausages (kg)} \\\\\n",
        "  s_e = \\text{Starch in the economy sausages (kg)} \\\\\n",
        "  b_p = \\text{Beef in the premium sausages (kg)}  \\\\\n",
        "  w_p = \\text{Wheat in the premium sausages (kg)}  \\\\\n",
        "  s_p = \\text{Starch in the premium sausages (kg)}  \\\\\n",
        "$</p>\n",
        "<p>We want to minimise costs such that:</p>\n",
        "<p>$\\text{Cost} = 5.72(b_e + b_p) + 2.16(w_e + w_p) + 1.5(s_e + s_p)$</p>\n",
        "<p>With the following constraints:</p>\n",
        "<p>$\n",
        " b_e + w_e + s_e = 350 \\times 0.05 \\\\\n",
        " b_p + w_p + s_p = 500 \\times 0.05 \\\\\n",
        " b_e \\geq 0.4(p_e + w_e + s_e) \\\\ \n",
        " b_p \\geq 0.6(p_p + w_p + s_p) \\\\\n",
        " s_e \\leq 0.25(p_e + w_e + s_e) \\\\ \n",
        " s_p \\leq 0.25(p_p + w_p + s_p) \\\\ \n",
        " b_e + b_p \\leq 30 \\\\ \n",
        " w_e + w_p \\leq 20 \\\\\n",
        " s_e + s_p \\leq 17 \\\\\n",
        " b_e + b_p \\geq 23 \\\\\n",
        " $</p>\n",
        "</div>\n",
        "</div>\n",
        "</div>"
      ]
    },
    {
      "cell_type": "code",
      "metadata": {
        "id": "u5P17UTEeLWq",
        "colab_type": "code",
        "colab": {}
      },
      "source": [
        "# Instal pulp package\n",
        "!pip install pulp\n",
        "import pulp"
      ],
      "execution_count": 0,
      "outputs": []
    },
    {
      "cell_type": "code",
      "metadata": {
        "id": "ESe0smJCeLWt",
        "colab_type": "code",
        "colab": {}
      },
      "source": [
        "# Instantiate our problem class\n",
        "model = pulp.LpProblem(\"Cost minimising blending problem\", pulp.LpMinimize)"
      ],
      "execution_count": 0,
      "outputs": []
    },
    {
      "cell_type": "markdown",
      "metadata": {
        "id": "NkjNKbAKeLWw",
        "colab_type": "text"
      },
      "source": [
        "Create a couple of lists from which to create tuple indices, so we don't have to assign each of all 6 decision variables separately."
      ]
    },
    {
      "cell_type": "code",
      "metadata": {
        "id": "mJ5yRJoXeLWx",
        "colab_type": "code",
        "colab": {}
      },
      "source": [
        "# Construct our decision variable lists\n",
        "sausage_types = ['economy', 'premium']\n",
        "ingredients = ['beef', 'wheat', 'starch']"
      ],
      "execution_count": 0,
      "outputs": []
    },
    {
      "cell_type": "markdown",
      "metadata": {
        "id": "Ema_Gci6jtjl",
        "colab_type": "text"
      },
      "source": [
        ""
      ]
    },
    {
      "cell_type": "markdown",
      "metadata": {
        "id": "FFHbWUz2eLW0",
        "colab_type": "text"
      },
      "source": [
        "Each of decision variables have similar characteristics (lower bound of 0, continuous variables). <br />\n",
        "Therefore we can use PuLP’s LpVariable object’s dict functionality, we can provide our tuple indices.\n",
        "These tuples will be keys for the ing_weight dict of decision variables"
      ]
    },
    {
      "cell_type": "code",
      "metadata": {
        "id": "tqWUpRhFeLW1",
        "colab_type": "code",
        "colab": {}
      },
      "source": [
        "ing_weight = pulp.LpVariable.dicts(\"weight kg\",\n",
        "                                     ((i, j) for i in sausage_types for j in ingredients),\n",
        "                                     lowBound=0,\n",
        "                                     cat='Continuous')"
      ],
      "execution_count": 0,
      "outputs": []
    },
    {
      "cell_type": "markdown",
      "metadata": {
        "id": "7wUMeNtceLW4",
        "colab_type": "text"
      },
      "source": [
        "PuLP provides an lpSum vector calculation for the sum of a list of linear expressions."
      ]
    },
    {
      "cell_type": "code",
      "metadata": {
        "id": "tbDAVl5CeLW4",
        "colab_type": "code",
        "colab": {}
      },
      "source": [
        "# Objective Function\n",
        "model += (\n",
        "    pulp.lpSum([\n",
        "        5.72 * ing_weight[(i, 'beef')]\n",
        "        + 2.16 * ing_weight[(i, 'wheat')]\n",
        "        + 1.5 * ing_weight[(i, 'starch')]\n",
        "        for i in sausage_types])\n",
        ")"
      ],
      "execution_count": 0,
      "outputs": []
    },
    {
      "cell_type": "markdown",
      "metadata": {
        "id": "S5vdr2AOeLW7",
        "colab_type": "text"
      },
      "source": [
        "The list comprehensions allows for scaling up to many ingredients or sausage types"
      ]
    },
    {
      "cell_type": "code",
      "metadata": {
        "id": "Cz3li7OjeLW8",
        "colab_type": "code",
        "colab": {}
      },
      "source": [
        "# Constraints\n",
        "# 350 economy and 500 premium sausages at 0.05 kg\n",
        "model += pulp.lpSum([ing_weight['economy', j] for j in ingredients]) == 350 * 0.05\n",
        "model += pulp.lpSum([ing_weight['premium', j] for j in ingredients]) == 500 * 0.05\n",
        "\n",
        "# Economy has >= 40% beef, premium has >= 60% beef\n",
        "model += ing_weight['economy', 'beef'] >= (\n",
        "    0.4 * pulp.lpSum([ing_weight['economy', j] for j in ingredients]))\n",
        "\n",
        "model += ing_weight['premium', 'beef'] >= (\n",
        "    0.6 * pulp.lpSum([ing_weight['premium', j] for j in ingredients]))\n",
        "\n",
        "# Sausages must be <= 25% starch\n",
        "model += ing_weight['economy', 'starch'] <= (\n",
        "    0.25 * pulp.lpSum([ing_weight['economy', j] for j in ingredients]))\n",
        "\n",
        "model += ing_weight['premium', 'starch'] <= (\n",
        "    0.25 * pulp.lpSum([ing_weight['premium', j] for j in ingredients]))\n",
        "\n",
        "# We have at most 30 kg of beef, 20 kg of wheat and 17 kg of starch available\n",
        "model += pulp.lpSum([ing_weight[i, 'beef'] for i in sausage_types]) <= 30\n",
        "model += pulp.lpSum([ing_weight[i, 'wheat'] for i in sausage_types]) <= 20\n",
        "model += pulp.lpSum([ing_weight[i, 'starch'] for i in sausage_types]) <= 17\n",
        "\n",
        "# We have at least 23 kg of beef to use up\n",
        "model += pulp.lpSum([ing_weight[i, 'beef'] for i in sausage_types]) >= 23"
      ],
      "execution_count": 0,
      "outputs": []
    },
    {
      "cell_type": "code",
      "metadata": {
        "id": "fBuERPe1eLW_",
        "colab_type": "code",
        "colab": {}
      },
      "source": [
        "# Solve our problem\n",
        "model.solve()\n",
        "pulp.LpStatus[model.status]"
      ],
      "execution_count": 0,
      "outputs": []
    },
    {
      "cell_type": "code",
      "metadata": {
        "id": "3XHtrahBeLXE",
        "colab_type": "code",
        "colab": {}
      },
      "source": [
        "for var in ing_weight:\n",
        "    var_value = ing_weight[var].varValue\n",
        "    print (\"The weight of {0} in {1} sausages is {2} kg\".format(var[1], var[0], var_value))"
      ],
      "execution_count": 0,
      "outputs": []
    },
    {
      "cell_type": "code",
      "metadata": {
        "id": "AuWKO1mPeLXI",
        "colab_type": "code",
        "colab": {}
      },
      "source": [
        "total_cost = pulp.value(model.objective)\n",
        "\n",
        "print (\"The total cost is ${} for 350 economy sausages and 500 premium sausages\".format(round(total_cost, 2)))"
      ],
      "execution_count": 0,
      "outputs": []
    }
  ]
}