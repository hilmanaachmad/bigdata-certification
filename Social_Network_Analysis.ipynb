{
  "nbformat": 4,
  "nbformat_minor": 0,
  "metadata": {
    "colab": {
      "name": "4. Social Network Analysis",
      "version": "0.3.2",
      "provenance": [],
      "collapsed_sections": [],
      "toc_visible": true,
      "include_colab_link": true
    },
    "kernelspec": {
      "name": "python3",
      "display_name": "Python 3"
    }
  },
  "cells": [
    {
      "cell_type": "markdown",
      "metadata": {
        "id": "view-in-github",
        "colab_type": "text"
      },
      "source": [
        "<a href=\"https://colab.research.google.com/github/rc-dbe/bigdatacertification/blob/master/Social_Network_Analysis.ipynb\" target=\"_parent\"><img src=\"https://colab.research.google.com/assets/colab-badge.svg\" alt=\"Open In Colab\"/></a>"
      ]
    },
    {
      "cell_type": "markdown",
      "metadata": {
        "id": "qtHSfA4lCHGr",
        "colab_type": "text"
      },
      "source": [
        "\n",
        "*Hands-on of Big Data Analyst with TuV Certified Qualification*\n",
        "\n",
        "\n",
        "---\n",
        "\n",
        "\n"
      ]
    },
    {
      "cell_type": "markdown",
      "metadata": {
        "id": "nvWS8sSBBo90",
        "colab_type": "text"
      },
      "source": [
        "# Social Network Analysis"
      ]
    },
    {
      "cell_type": "markdown",
      "metadata": {
        "id": "H1zzejL0Q56b",
        "colab_type": "text"
      },
      "source": [
        "In this prcatice we will use NetworkX. NetworkX is a Python package for the creation, manipulation, and study of the structure, dynamics, and functions of complex networks.\n",
        "You can see the full documentation of NetworkX  [HERE](https://networkx.github.io/documentation/stable/)\n"
      ]
    },
    {
      "cell_type": "code",
      "metadata": {
        "id": "WZw49yfC6KfC",
        "colab_type": "code",
        "colab": {}
      },
      "source": [
        "# Import Library\n",
        "import networkx as nx"
      ],
      "execution_count": 0,
      "outputs": []
    },
    {
      "cell_type": "markdown",
      "metadata": {
        "id": "R3oAMRYLCpgc",
        "colab_type": "text"
      },
      "source": [
        "## Import Dataset"
      ]
    },
    {
      "cell_type": "markdown",
      "metadata": {
        "id": "R6GXRHu7T5vs",
        "colab_type": "text"
      },
      "source": [
        "We will use [Zachary's karate Club Dataset](https://en.wikipedia.org/wiki/Zachary%27s_karate_club) that avaiable in [NetworkX](https://networkx.github.io/documentation/networkx-1.10/reference/generated/networkx.generators.social.karate_club_graph.html#networkx.generators.social.karate_club_graph)"
      ]
    },
    {
      "cell_type": "code",
      "metadata": {
        "id": "adZTWtrl6S-A",
        "colab_type": "code",
        "colab": {}
      },
      "source": [
        "# Import Dataset\n",
        "G = nx.karate_club_graph()\n",
        "print('#nodes:', len(G.nodes()), 'and', '#edges:', len(G.edges()))"
      ],
      "execution_count": 0,
      "outputs": []
    },
    {
      "cell_type": "markdown",
      "metadata": {
        "id": "GBWfBUKz6Lj1",
        "colab_type": "text"
      },
      "source": [
        "The data was collected from the members of a university karate club by Wayne Zachary in 1977.\n",
        "Each node represents a member of the club.\n",
        "Each edge represents a tie between two members of the club.\n",
        "The network is undirected and unweighted. There are 34 members of a university karate club and 78 interactions between members. "
      ]
    },
    {
      "cell_type": "markdown",
      "metadata": {
        "id": "f4CyY9tXCsTf",
        "colab_type": "text"
      },
      "source": [
        "## Show Nodes and Edges"
      ]
    },
    {
      "cell_type": "code",
      "metadata": {
        "id": "8HKuIZbA7z2K",
        "colab_type": "code",
        "colab": {}
      },
      "source": [
        "# Show the nodes\n",
        "nx.nodes(G)"
      ],
      "execution_count": 0,
      "outputs": []
    },
    {
      "cell_type": "code",
      "metadata": {
        "id": "Gu0gzcZS7p7m",
        "colab_type": "code",
        "colab": {}
      },
      "source": [
        "# Show the edges\n",
        "nx.edges(G)"
      ],
      "execution_count": 0,
      "outputs": []
    },
    {
      "cell_type": "markdown",
      "metadata": {
        "id": "9ulifuHvTkOX",
        "colab_type": "text"
      },
      "source": [
        "## Drawing/Visualization\n",
        "\n",
        "Drawing/Visualization documentation: https://networkx.github.io/documentation/stable/reference/drawing.html"
      ]
    },
    {
      "cell_type": "code",
      "metadata": {
        "id": "zIhJk0y3FgEA",
        "colab_type": "code",
        "colab": {}
      },
      "source": [
        "# Drawing\n",
        "import matplotlib.pyplot as plt\n",
        "layout = nx.fruchterman_reingold_layout(G)\n",
        "plt.figure(figsize=(10,10))\n",
        "plt.axis(\"off\") \n",
        "nx.draw_networkx(G, layout, with_labels=True, node_color = '#FF5733' )\n"
      ],
      "execution_count": 0,
      "outputs": []
    },
    {
      "cell_type": "markdown",
      "metadata": {
        "id": "l3qRueLEC6PI",
        "colab_type": "text"
      },
      "source": [
        "## Graph Density"
      ]
    },
    {
      "cell_type": "markdown",
      "metadata": {
        "id": "U8i49eVX7hKS",
        "colab_type": "text"
      },
      "source": [
        "Closer to 0 ,  the interactions between karate members are more distant. Closer to 1 ,  the interactions are denser."
      ]
    },
    {
      "cell_type": "code",
      "metadata": {
        "id": "PiQEBo-hrF8G",
        "colab_type": "code",
        "colab": {}
      },
      "source": [
        "# Graph Density\n",
        "nx.density(G)"
      ],
      "execution_count": 0,
      "outputs": []
    },
    {
      "cell_type": "markdown",
      "metadata": {
        "id": "mK3lZ45GC9qG",
        "colab_type": "text"
      },
      "source": [
        "## Average Shortest Path Lenght"
      ]
    },
    {
      "cell_type": "markdown",
      "metadata": {
        "id": "DBg5qpL49YmP",
        "colab_type": "text"
      },
      "source": [
        "Average distance among karate members."
      ]
    },
    {
      "cell_type": "code",
      "metadata": {
        "id": "jQSqafuyvWAB",
        "colab_type": "code",
        "colab": {}
      },
      "source": [
        "# Average Shortest Path Lenght\n",
        "nx.average_shortest_path_length(G)"
      ],
      "execution_count": 0,
      "outputs": []
    },
    {
      "cell_type": "markdown",
      "metadata": {
        "id": "I14hztEbDGqg",
        "colab_type": "text"
      },
      "source": [
        "## Network Diameter"
      ]
    },
    {
      "cell_type": "markdown",
      "metadata": {
        "id": "w3rehmjH9qoW",
        "colab_type": "text"
      },
      "source": [
        "Maximum distance between two farthest members."
      ]
    },
    {
      "cell_type": "code",
      "metadata": {
        "id": "J_TqCKNLibNb",
        "colab_type": "code",
        "colab": {}
      },
      "source": [
        "nx.diameter(G)"
      ],
      "execution_count": 0,
      "outputs": []
    },
    {
      "cell_type": "markdown",
      "metadata": {
        "id": "AeIpjd-kwMQj",
        "colab_type": "text"
      },
      "source": [
        "## Community Detection"
      ]
    },
    {
      "cell_type": "code",
      "metadata": {
        "id": "ZFcVaQcMtbKz",
        "colab_type": "code",
        "colab": {}
      },
      "source": [
        "# Community Detection using Modularity\n",
        "from networkx.algorithms.community import greedy_modularity_communities\n",
        "greedy_modularity_communities(G)"
      ],
      "execution_count": 0,
      "outputs": []
    },
    {
      "cell_type": "markdown",
      "metadata": {
        "id": "qEEsn7DawSDe",
        "colab_type": "text"
      },
      "source": [
        "## Connected Component"
      ]
    },
    {
      "cell_type": "code",
      "metadata": {
        "id": "j9cOnLrCoEz-",
        "colab_type": "code",
        "colab": {}
      },
      "source": [
        "# Count Number of Connected Components\n",
        "nx.number_connected_components(G)"
      ],
      "execution_count": 0,
      "outputs": []
    },
    {
      "cell_type": "markdown",
      "metadata": {
        "id": "WnoNXjjo-gdR",
        "colab_type": "text"
      },
      "source": [
        "## Degree"
      ]
    },
    {
      "cell_type": "code",
      "metadata": {
        "id": "aBX3PD7I8nIn",
        "colab_type": "code",
        "colab": {}
      },
      "source": [
        "# Show node degree\n",
        "nx.degree(G)"
      ],
      "execution_count": 0,
      "outputs": []
    },
    {
      "cell_type": "code",
      "metadata": {
        "id": "0TTf6ffh8tuJ",
        "colab_type": "code",
        "colab": {}
      },
      "source": [
        "# Sorted from the highest Degree\n",
        "sorted(nx.degree(G), key=lambda x: x[1], reverse=True)"
      ],
      "execution_count": 0,
      "outputs": []
    },
    {
      "cell_type": "markdown",
      "metadata": {
        "id": "mRg4pjLM_3zh",
        "colab_type": "text"
      },
      "source": [
        "## Betweenness Centrality"
      ]
    },
    {
      "cell_type": "code",
      "metadata": {
        "id": "aA-6qHr0sSf1",
        "colab_type": "code",
        "colab": {}
      },
      "source": [
        "# Calculate betweeness centrality and sort from the highest value\n",
        "sorted(nx.betweenness_centrality(G, normalized=True).items(), key=lambda x:x[1], reverse=True)[0:10]"
      ],
      "execution_count": 0,
      "outputs": []
    },
    {
      "cell_type": "markdown",
      "metadata": {
        "id": "I2ofAG8qfUMB",
        "colab_type": "text"
      },
      "source": [
        "## Closeness Centrality"
      ]
    },
    {
      "cell_type": "code",
      "metadata": {
        "id": "aLf0MLSTs48B",
        "colab_type": "code",
        "colab": {}
      },
      "source": [
        "# Calculate closeness centrality and sort from the highest value\n",
        "sorted(nx.closeness_centrality(G).items(), key=lambda x:x[1], reverse=True)[0:10]"
      ],
      "execution_count": 0,
      "outputs": []
    },
    {
      "cell_type": "markdown",
      "metadata": {
        "id": "GDzMCqwnfZch",
        "colab_type": "text"
      },
      "source": [
        "## Eigenvector Centrality"
      ]
    },
    {
      "cell_type": "code",
      "metadata": {
        "id": "SOIMZWqTtJl-",
        "colab_type": "code",
        "colab": {}
      },
      "source": [
        "# Calculate eigenvector centrality and sort from the highest value\n",
        "sorted(nx.eigenvector_centrality(G).items(), key=lambda x:x[1], reverse=True)[0:10]"
      ],
      "execution_count": 0,
      "outputs": []
    }
  ]
}